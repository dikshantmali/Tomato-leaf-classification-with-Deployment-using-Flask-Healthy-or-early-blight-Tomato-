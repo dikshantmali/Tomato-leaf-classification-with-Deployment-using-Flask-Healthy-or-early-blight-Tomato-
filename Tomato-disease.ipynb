{
 "cells": [
  {
   "cell_type": "code",
   "execution_count": 1,
   "metadata": {},
   "outputs": [],
   "source": [
    "from keras.preprocessing.image import ImageDataGenerator\n",
    "from keras.models import Sequential\n",
    "from keras.layers import Conv2D,MaxPooling2D\n",
    "from keras.layers import Activation,Dropout,Flatten,Dense\n",
    "from keras import backend as K\n",
    "import numpy as np\n",
    "from keras.preprocessing import image\n",
    "\n"
   ]
  },
  {
   "cell_type": "code",
   "execution_count": 2,
   "metadata": {},
   "outputs": [],
   "source": [
    "img_width,img_height = 150 , 150\n",
    "train_data_dir = 'data/train'\n",
    "validation_data_dir = 'data/validation'\n",
    "nb_train_samples = 700\n",
    "nb_validation_samples = 300\n",
    "epochs = 50\n",
    "batch_size = 15\n",
    "\n",
    "if K.image_data_format() == 'channels_first':\n",
    "    input_shape = (3,img_width,img_height)\n",
    "else:\n",
    "    input_shape = (img_width,img_height,3)\n",
    "\n",
    "train_datagen = ImageDataGenerator(\n",
    "    rescale=1./255,\n",
    "    shear_range=0.2,\n",
    "    zoom_range=0.2,\n",
    "    horizontal_flip=True\n",
    ")"
   ]
  },
  {
   "cell_type": "code",
   "execution_count": 3,
   "metadata": {},
   "outputs": [],
   "source": [
    "test_datagen = ImageDataGenerator(rescale=1./255)"
   ]
  },
  {
   "cell_type": "code",
   "execution_count": 4,
   "metadata": {},
   "outputs": [
    {
     "name": "stdout",
     "output_type": "stream",
     "text": [
      "Found 1874 images belonging to 2 classes.\n"
     ]
    }
   ],
   "source": [
    "train_generator = train_datagen.flow_from_directory(\n",
    "    train_data_dir,\n",
    "    target_size=(img_width,img_height),\n",
    "    batch_size = batch_size,\n",
    "    class_mode = 'binary')"
   ]
  },
  {
   "cell_type": "code",
   "execution_count": 5,
   "metadata": {},
   "outputs": [
    {
     "name": "stdout",
     "output_type": "stream",
     "text": [
      "Found 717 images belonging to 2 classes.\n"
     ]
    }
   ],
   "source": [
    "validation_generator = test_datagen.flow_from_directory(\n",
    "    validation_data_dir,\n",
    "    target_size=(img_width,img_height),\n",
    "    batch_size = batch_size,\n",
    "    class_mode = 'binary')"
   ]
  },
  {
   "cell_type": "code",
   "execution_count": 6,
   "metadata": {},
   "outputs": [],
   "source": [
    "model = Sequential()\n",
    "model.add(Conv2D(32,(3,3),input_shape = input_shape))\n",
    "model.add(Activation('relu'))\n",
    "model.add(MaxPooling2D(pool_size =(2,2)))"
   ]
  },
  {
   "cell_type": "code",
   "execution_count": 7,
   "metadata": {},
   "outputs": [
    {
     "name": "stdout",
     "output_type": "stream",
     "text": [
      "Model: \"sequential\"\n",
      "_________________________________________________________________\n",
      "Layer (type)                 Output Shape              Param #   \n",
      "=================================================================\n",
      "conv2d (Conv2D)              (None, 148, 148, 32)      896       \n",
      "_________________________________________________________________\n",
      "activation (Activation)      (None, 148, 148, 32)      0         \n",
      "_________________________________________________________________\n",
      "max_pooling2d (MaxPooling2D) (None, 74, 74, 32)        0         \n",
      "=================================================================\n",
      "Total params: 896\n",
      "Trainable params: 896\n",
      "Non-trainable params: 0\n",
      "_________________________________________________________________\n"
     ]
    }
   ],
   "source": [
    "model.summary()"
   ]
  },
  {
   "cell_type": "code",
   "execution_count": 8,
   "metadata": {},
   "outputs": [],
   "source": [
    "model.add(Conv2D(32,(3,3),input_shape = input_shape))\n",
    "model.add(Activation('relu'))\n",
    "model.add(MaxPooling2D(pool_size =(2,2)))\n",
    "\n",
    "\n",
    "\n",
    "model.add(Conv2D(64,(3,3),input_shape = input_shape))\n",
    "model.add(Activation('relu'))\n",
    "model.add(MaxPooling2D(pool_size =(2,2)))"
   ]
  },
  {
   "cell_type": "code",
   "execution_count": 9,
   "metadata": {},
   "outputs": [],
   "source": [
    "model.add(Flatten())\n",
    "model.add(Dense(64))\n",
    "model.add(Activation('relu'))\n",
    "model.add(Dropout(0.5))\n",
    "model.add(Dense(1))\n",
    "model.add(Activation('sigmoid'))"
   ]
  },
  {
   "cell_type": "code",
   "execution_count": 10,
   "metadata": {},
   "outputs": [
    {
     "name": "stdout",
     "output_type": "stream",
     "text": [
      "Model: \"sequential\"\n",
      "_________________________________________________________________\n",
      "Layer (type)                 Output Shape              Param #   \n",
      "=================================================================\n",
      "conv2d (Conv2D)              (None, 148, 148, 32)      896       \n",
      "_________________________________________________________________\n",
      "activation (Activation)      (None, 148, 148, 32)      0         \n",
      "_________________________________________________________________\n",
      "max_pooling2d (MaxPooling2D) (None, 74, 74, 32)        0         \n",
      "_________________________________________________________________\n",
      "conv2d_1 (Conv2D)            (None, 72, 72, 32)        9248      \n",
      "_________________________________________________________________\n",
      "activation_1 (Activation)    (None, 72, 72, 32)        0         \n",
      "_________________________________________________________________\n",
      "max_pooling2d_1 (MaxPooling2 (None, 36, 36, 32)        0         \n",
      "_________________________________________________________________\n",
      "conv2d_2 (Conv2D)            (None, 34, 34, 64)        18496     \n",
      "_________________________________________________________________\n",
      "activation_2 (Activation)    (None, 34, 34, 64)        0         \n",
      "_________________________________________________________________\n",
      "max_pooling2d_2 (MaxPooling2 (None, 17, 17, 64)        0         \n",
      "_________________________________________________________________\n",
      "flatten (Flatten)            (None, 18496)             0         \n",
      "_________________________________________________________________\n",
      "dense (Dense)                (None, 64)                1183808   \n",
      "_________________________________________________________________\n",
      "activation_3 (Activation)    (None, 64)                0         \n",
      "_________________________________________________________________\n",
      "dropout (Dropout)            (None, 64)                0         \n",
      "_________________________________________________________________\n",
      "dense_1 (Dense)              (None, 1)                 65        \n",
      "_________________________________________________________________\n",
      "activation_4 (Activation)    (None, 1)                 0         \n",
      "=================================================================\n",
      "Total params: 1,212,513\n",
      "Trainable params: 1,212,513\n",
      "Non-trainable params: 0\n",
      "_________________________________________________________________\n"
     ]
    }
   ],
   "source": [
    "model.summary()"
   ]
  },
  {
   "cell_type": "code",
   "execution_count": 11,
   "metadata": {},
   "outputs": [],
   "source": [
    "model.compile(loss='binary_crossentropy',optimizer ='rmsprop',metrics = ['accuracy'])"
   ]
  },
  {
   "cell_type": "code",
   "execution_count": 12,
   "metadata": {},
   "outputs": [
    {
     "name": "stdout",
     "output_type": "stream",
     "text": [
      "WARNING:tensorflow:From <ipython-input-12-b8fac2390993>:6: Model.fit_generator (from tensorflow.python.keras.engine.training) is deprecated and will be removed in a future version.\n",
      "Instructions for updating:\n",
      "Please use Model.fit, which supports generators.\n",
      "Epoch 1/50\n",
      "46/46 [==============================] - 23s 503ms/step - loss: 0.6879 - accuracy: 0.6174 - val_loss: 0.5413 - val_accuracy: 0.7533\n",
      "Epoch 2/50\n",
      "46/46 [==============================] - 22s 476ms/step - loss: 0.4186 - accuracy: 0.8505 - val_loss: 0.2982 - val_accuracy: 0.8867\n",
      "Epoch 3/50\n",
      "46/46 [==============================] - 22s 475ms/step - loss: 0.2163 - accuracy: 0.9116 - val_loss: 0.0546 - val_accuracy: 0.9800\n",
      "Epoch 4/50\n",
      "46/46 [==============================] - 22s 474ms/step - loss: 0.2216 - accuracy: 0.9405 - val_loss: 0.0281 - val_accuracy: 0.9933\n",
      "Epoch 5/50\n",
      "46/46 [==============================] - 25s 552ms/step - loss: 0.1711 - accuracy: 0.9448 - val_loss: 0.0987 - val_accuracy: 0.9900\n",
      "Epoch 6/50\n",
      "46/46 [==============================] - 22s 488ms/step - loss: 0.2450 - accuracy: 0.9304 - val_loss: 0.0972 - val_accuracy: 0.9867\n",
      "Epoch 7/50\n",
      "46/46 [==============================] - 23s 494ms/step - loss: 0.1603 - accuracy: 0.9565 - val_loss: 0.1028 - val_accuracy: 0.9600\n",
      "Epoch 8/50\n",
      "46/46 [==============================] - 22s 482ms/step - loss: 0.1472 - accuracy: 0.9667 - val_loss: 0.2618 - val_accuracy: 0.9033\n",
      "Epoch 9/50\n",
      "46/46 [==============================] - 22s 482ms/step - loss: 0.0656 - accuracy: 0.9725 - val_loss: 0.2817 - val_accuracy: 0.9300\n",
      "Epoch 10/50\n",
      "46/46 [==============================] - 26s 562ms/step - loss: 0.1610 - accuracy: 0.9681 - val_loss: 0.4194 - val_accuracy: 0.9233\n",
      "Epoch 11/50\n",
      "46/46 [==============================] - 22s 488ms/step - loss: 0.0409 - accuracy: 0.9855 - val_loss: 0.4959 - val_accuracy: 0.9333\n",
      "Epoch 12/50\n",
      "46/46 [==============================] - 22s 481ms/step - loss: 0.0639 - accuracy: 0.9782 - val_loss: 0.2626 - val_accuracy: 0.9833\n",
      "Epoch 13/50\n",
      "46/46 [==============================] - 22s 478ms/step - loss: 0.3614 - accuracy: 0.9696 - val_loss: 0.1646 - val_accuracy: 0.9400\n",
      "Epoch 14/50\n",
      "46/46 [==============================] - 23s 492ms/step - loss: 0.1005 - accuracy: 0.9739 - val_loss: 0.1444 - val_accuracy: 0.9867\n",
      "Epoch 15/50\n",
      "46/46 [==============================] - 28s 603ms/step - loss: 0.1327 - accuracy: 0.9695 - val_loss: 0.0757 - val_accuracy: 0.9667\n",
      "Epoch 16/50\n",
      "46/46 [==============================] - 22s 487ms/step - loss: 0.1044 - accuracy: 0.9739 - val_loss: 0.0894 - val_accuracy: 0.9767\n",
      "Epoch 17/50\n",
      "46/46 [==============================] - 23s 499ms/step - loss: 0.0523 - accuracy: 0.9739 - val_loss: 0.1556 - val_accuracy: 0.9833\n",
      "Epoch 18/50\n",
      "46/46 [==============================] - 22s 479ms/step - loss: 0.1634 - accuracy: 0.9826 - val_loss: 0.3136 - val_accuracy: 0.9567\n",
      "Epoch 19/50\n",
      "46/46 [==============================] - 23s 496ms/step - loss: 0.0762 - accuracy: 0.9783 - val_loss: 0.4145 - val_accuracy: 0.9533\n",
      "Epoch 20/50\n",
      "46/46 [==============================] - 23s 504ms/step - loss: 0.0587 - accuracy: 0.9782 - val_loss: 0.3258 - val_accuracy: 0.9800\n",
      "Epoch 21/50\n",
      "46/46 [==============================] - 27s 589ms/step - loss: 0.0959 - accuracy: 0.9710 - val_loss: 0.4130 - val_accuracy: 0.9333\n",
      "Epoch 22/50\n",
      "46/46 [==============================] - 25s 534ms/step - loss: 0.0323 - accuracy: 0.9884 - val_loss: 0.1857 - val_accuracy: 0.9667\n",
      "Epoch 23/50\n",
      "46/46 [==============================] - 33s 724ms/step - loss: 0.0700 - accuracy: 0.9898 - val_loss: 0.0782 - val_accuracy: 0.9800\n",
      "Epoch 24/50\n",
      "46/46 [==============================] - 27s 580ms/step - loss: 0.0835 - accuracy: 0.9841 - val_loss: 0.3677 - val_accuracy: 0.9867\n",
      "Epoch 25/50\n",
      "46/46 [==============================] - 24s 524ms/step - loss: 0.0762 - accuracy: 0.9841 - val_loss: 0.3354 - val_accuracy: 0.9733\n",
      "Epoch 26/50\n",
      "46/46 [==============================] - 29s 623ms/step - loss: 0.0795 - accuracy: 0.9797 - val_loss: 0.2281 - val_accuracy: 0.9533\n",
      "Epoch 27/50\n",
      "46/46 [==============================] - 22s 480ms/step - loss: 0.6068 - accuracy: 0.9783 - val_loss: 0.1019 - val_accuracy: 0.9767\n",
      "Epoch 28/50\n",
      "46/46 [==============================] - 25s 552ms/step - loss: 0.0611 - accuracy: 0.9898 - val_loss: 0.0368 - val_accuracy: 0.9867\n",
      "Epoch 29/50\n",
      "46/46 [==============================] - 25s 542ms/step - loss: 0.1195 - accuracy: 0.9739 - val_loss: 0.2471 - val_accuracy: 0.9800\n",
      "Epoch 30/50\n",
      "46/46 [==============================] - 22s 477ms/step - loss: 0.0223 - accuracy: 0.9927 - val_loss: 0.0526 - val_accuracy: 0.9800\n",
      "Epoch 31/50\n",
      "46/46 [==============================] - 22s 473ms/step - loss: 0.1009 - accuracy: 0.9739 - val_loss: 0.1312 - val_accuracy: 0.9633\n",
      "Epoch 32/50\n",
      "46/46 [==============================] - 22s 471ms/step - loss: 0.0534 - accuracy: 0.9811 - val_loss: 0.3410 - val_accuracy: 0.9900\n",
      "Epoch 33/50\n",
      "46/46 [==============================] - 22s 470ms/step - loss: 0.1488 - accuracy: 0.9753 - val_loss: 0.1036 - val_accuracy: 0.9867\n",
      "Epoch 34/50\n",
      "46/46 [==============================] - 22s 474ms/step - loss: 0.0385 - accuracy: 0.9899 - val_loss: 0.3317 - val_accuracy: 0.9867\n",
      "Epoch 35/50\n",
      "46/46 [==============================] - 30s 652ms/step - loss: 0.0664 - accuracy: 0.9797 - val_loss: 0.1049 - val_accuracy: 0.9800\n",
      "Epoch 36/50\n",
      "46/46 [==============================] - 23s 493ms/step - loss: 0.0717 - accuracy: 0.9812 - val_loss: 0.0871 - val_accuracy: 0.9833\n",
      "Epoch 37/50\n",
      "46/46 [==============================] - 22s 476ms/step - loss: 0.1054 - accuracy: 0.9870 - val_loss: 0.1181 - val_accuracy: 0.9800\n",
      "Epoch 38/50\n",
      "46/46 [==============================] - 24s 516ms/step - loss: 0.0494 - accuracy: 0.9913 - val_loss: 0.4648 - val_accuracy: 0.9833\n",
      "Epoch 39/50\n",
      "46/46 [==============================] - 23s 508ms/step - loss: 0.3028 - accuracy: 0.9797 - val_loss: 0.0370 - val_accuracy: 0.9933\n",
      "Epoch 40/50\n",
      "46/46 [==============================] - 23s 491ms/step - loss: 0.0379 - accuracy: 0.9927 - val_loss: 0.1010 - val_accuracy: 0.9833\n",
      "Epoch 41/50\n",
      "46/46 [==============================] - 24s 513ms/step - loss: 0.0990 - accuracy: 0.9826 - val_loss: 0.0466 - val_accuracy: 0.9833\n",
      "Epoch 42/50\n",
      "46/46 [==============================] - 30s 646ms/step - loss: 0.0537 - accuracy: 0.9826 - val_loss: 0.0582 - val_accuracy: 0.9933\n",
      "Epoch 43/50\n",
      "46/46 [==============================] - 26s 561ms/step - loss: 0.0667 - accuracy: 0.9855 - val_loss: 0.0027 - val_accuracy: 1.0000\n",
      "Epoch 44/50\n",
      "46/46 [==============================] - 27s 578ms/step - loss: 0.0834 - accuracy: 0.9812 - val_loss: 0.0518 - val_accuracy: 0.9900\n",
      "Epoch 45/50\n",
      "46/46 [==============================] - 26s 561ms/step - loss: 0.1016 - accuracy: 0.9826 - val_loss: 0.3794 - val_accuracy: 0.9833\n",
      "Epoch 46/50\n",
      "46/46 [==============================] - 25s 553ms/step - loss: 0.0303 - accuracy: 0.9884 - val_loss: 0.0703 - val_accuracy: 0.9833\n",
      "Epoch 47/50\n",
      "46/46 [==============================] - 30s 649ms/step - loss: 0.3838 - accuracy: 0.9681 - val_loss: 0.2408 - val_accuracy: 0.9600\n",
      "Epoch 48/50\n",
      "46/46 [==============================] - 27s 585ms/step - loss: 0.0481 - accuracy: 0.9884 - val_loss: 0.0650 - val_accuracy: 0.9900\n",
      "Epoch 49/50\n",
      "46/46 [==============================] - 27s 593ms/step - loss: 0.0535 - accuracy: 0.9898 - val_loss: 0.5690 - val_accuracy: 0.9733\n",
      "Epoch 50/50\n",
      "46/46 [==============================] - 31s 669ms/step - loss: 0.0412 - accuracy: 0.9855 - val_loss: 0.3667 - val_accuracy: 0.9733\n"
     ]
    },
    {
     "data": {
      "text/plain": [
       "<tensorflow.python.keras.callbacks.History at 0x7f8a4c76a400>"
      ]
     },
     "execution_count": 12,
     "metadata": {},
     "output_type": "execute_result"
    }
   ],
   "source": [
    "model.fit_generator(\n",
    "    train_generator,\n",
    "    steps_per_epoch = nb_train_samples // batch_size,\n",
    "    epochs = epochs,\n",
    "    validation_data = validation_generator,\n",
    "    validation_steps=nb_validation_samples // batch_size)"
   ]
  },
  {
   "cell_type": "code",
   "execution_count": 15,
   "metadata": {},
   "outputs": [],
   "source": [
    "model.save('tomato.h5')\n"
   ]
  },
  {
   "cell_type": "code",
   "execution_count": 21,
   "metadata": {},
   "outputs": [],
   "source": [
    "img_pred = image.load_img('2.JPG',target_size = (150,150))\n",
    "img_pred = image.img_to_array(img_pred)\n",
    "img_pred = np.expand_dims(img_pred,axis = 0)"
   ]
  },
  {
   "cell_type": "code",
   "execution_count": 22,
   "metadata": {},
   "outputs": [
    {
     "name": "stdout",
     "output_type": "stream",
     "text": [
      "[[0.]]\n",
      "early blight Tomato\n"
     ]
    }
   ],
   "source": [
    "rslt = model.predict(img_pred)\n",
    "print(rslt)\n",
    "if rslt[0][0] == 1:\n",
    "    print('Healthy Tomato')\n",
    "else:\n",
    "    print('early blight Tomato')\n",
    "    "
   ]
  },
  {
   "cell_type": "code",
   "execution_count": null,
   "metadata": {},
   "outputs": [],
   "source": []
  }
 ],
 "metadata": {
  "kernelspec": {
   "display_name": "Python 3",
   "language": "python",
   "name": "python3"
  },
  "language_info": {
   "codemirror_mode": {
    "name": "ipython",
    "version": 3
   },
   "file_extension": ".py",
   "mimetype": "text/x-python",
   "name": "python",
   "nbconvert_exporter": "python",
   "pygments_lexer": "ipython3",
   "version": "3.7.3"
  }
 },
 "nbformat": 4,
 "nbformat_minor": 2
}
